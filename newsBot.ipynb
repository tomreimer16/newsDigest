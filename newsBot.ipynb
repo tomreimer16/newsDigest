{
 "metadata": {
  "language_info": {
   "codemirror_mode": {
    "name": "ipython",
    "version": 3
   },
   "file_extension": ".py",
   "mimetype": "text/x-python",
   "name": "python",
   "nbconvert_exporter": "python",
   "pygments_lexer": "ipython3",
   "version": "3.8.2-final"
  },
  "orig_nbformat": 2,
  "kernelspec": {
   "name": "python_defaultSpec_1598775648761",
   "display_name": "Python 3.8.2 64-bit"
  }
 },
 "nbformat": 4,
 "nbformat_minor": 2,
 "cells": [
  {
   "cell_type": "code",
   "execution_count": 24,
   "metadata": {},
   "outputs": [],
   "source": [
    "from requests import get\n",
    "from bs4 import BeautifulSoup\n",
    "import redis\n",
    "from secrets import password\n",
    "import datetime\n",
    "import time\n",
    "from json import dumps\n",
    "import re"
   ]
  },
  {
   "cell_type": "code",
   "execution_count": 55,
   "metadata": {},
   "outputs": [],
   "source": [
    "url = 'https://www.spectator.co.uk'\n",
    "keywords = ['HS2','Sutherland','Boris','climate']"
   ]
  },
  {
   "cell_type": "code",
   "execution_count": 45,
   "metadata": {},
   "outputs": [
    {
     "output_type": "execute_result",
     "data": {
      "text/plain": "<Response [200]>"
     },
     "metadata": {},
     "execution_count": 45
    }
   ],
   "source": [
    "page_response = get(url)\n",
    "page_response"
   ]
  },
  {
   "cell_type": "code",
   "execution_count": 46,
   "metadata": {
    "tags": []
   },
   "outputs": [],
   "source": [
    "page_text = page_response.text"
   ]
  },
  {
   "cell_type": "code",
   "execution_count": 48,
   "metadata": {
    "tags": []
   },
   "outputs": [],
   "source": [
    "page_soup = BeautifulSoup(page_text, 'html.parser')\n",
    "\n",
    "# print(page_soup.prettify())"
   ]
  },
  {
   "cell_type": "code",
   "execution_count": 49,
   "metadata": {
    "tags": []
   },
   "outputs": [],
   "source": [
    "articles =page_soup.find_all(\"a\",href=re.compile(\"^/article/\"))"
   ]
  },
  {
   "cell_type": "code",
   "execution_count": 50,
   "metadata": {
    "tags": []
   },
   "outputs": [],
   "source": [
    "saved_links = []\n",
    "\n",
    "for article in articles:\n",
    "    for keyword in keywords:\n",
    "        if keyword in article.text:\n",
    "            if url + article['href'] not in saved_links:\n",
    "                saved_links.append(url + article['href'])"
   ]
  },
  {
   "cell_type": "code",
   "execution_count": 51,
   "metadata": {
    "tags": []
   },
   "outputs": [
    {
     "output_type": "stream",
     "name": "stdout",
     "text": "https://www.spectator.co.uk/article/why-is-boris-so-determined-to-save-pret-\n"
    }
   ],
   "source": [
    "for link in saved_links:\n",
    "    print(link)"
   ]
  },
  {
   "cell_type": "code",
   "execution_count": 56,
   "metadata": {},
   "outputs": [],
   "source": [
    "url = 'https://www.bbc.co.uk/news'\n",
    "page_response = get(url)\n",
    "page_text = page_response.text\n",
    "page_soup = BeautifulSoup(page_text, 'html.parser')"
   ]
  },
  {
   "cell_type": "code",
   "execution_count": 57,
   "metadata": {},
   "outputs": [],
   "source": [
    "articles =page_soup.find_all(\"a\",href=re.compile(\"^/news/\"))"
   ]
  },
  {
   "cell_type": "code",
   "execution_count": 58,
   "metadata": {
    "tags": []
   },
   "outputs": [
    {
     "output_type": "stream",
     "name": "stdout",
     "text": "https://www.bbc.co.uk/news/news/uk-53962883\n"
    }
   ],
   "source": [
    "saved_links = []\n",
    "\n",
    "for article in articles:\n",
    "    for keyword in keywords:\n",
    "        if keyword in article.text:\n",
    "            if 'https://www.bbc.co.uk' + article['href'] not in saved_links:\n",
    "                saved_links.append('https://www.bbc.co.uk' + article['href'])\n",
    "\n",
    "for link in saved_links:\n",
    "    print(link)"
   ]
  },
  {
   "cell_type": "code",
   "execution_count": 59,
   "metadata": {},
   "outputs": [],
   "source": [
    "parser_hrefSearch = {\n",
    "        \"BBC\" : \"^/news/\",\n",
    "        \"Spectator\" : \"^/article/\"\n",
    "        }\n",
    "        \n",
    "parser_urlRoot = {\n",
    "    \"BBC\" : \"https://www.bbc.co.uk\",\n",
    "    \"Spectator\" : \"https://www.spectator.co.uk\"\n",
    "    }"
   ]
  },
  {
   "cell_type": "code",
   "execution_count": 60,
   "metadata": {},
   "outputs": [
    {
     "output_type": "execute_result",
     "data": {
      "text/plain": "'^/news/'"
     },
     "metadata": {},
     "execution_count": 60
    }
   ],
   "source": [
    "parser_hrefSearch[\"BBC\"]"
   ]
  },
  {
   "cell_type": "code",
   "execution_count": 62,
   "metadata": {},
   "outputs": [],
   "source": [
    "parser = {\n",
    "        \"BBC\" : {\"href\": \"^/news/\", \"url\": \"https://www.bbc.co.uk\"},\n",
    "        \"Spectator\" : {\"href\": \"^/article/\", \"url\": \"https://www.spectator.co.uk\"}\n",
    "        }"
   ]
  },
  {
   "cell_type": "code",
   "execution_count": 65,
   "metadata": {},
   "outputs": [
    {
     "output_type": "execute_result",
     "data": {
      "text/plain": "'^/news/'"
     },
     "metadata": {},
     "execution_count": 65
    }
   ],
   "source": [
    "parser[\"BBC\"][\"href\"]"
   ]
  },
  {
   "cell_type": "code",
   "execution_count": null,
   "metadata": {},
   "outputs": [],
   "source": []
  }
 ]
}